{
 "cells": [
  {
   "cell_type": "code",
   "execution_count": 14,
   "metadata": {},
   "outputs": [],
   "source": [
    "import pandas as pd\n",
    "import numpy as np\n",
    "from sklearn.model_selection import train_test_split\n",
    "from sklearn.metrics import accuracy_score\n",
    "import sklearn.tree as tree"
   ]
  },
  {
   "cell_type": "code",
   "execution_count": 15,
   "metadata": {},
   "outputs": [],
   "source": [
    "columns = [\"trustLevel\",\"totalScanTimeInSeconds\",\"grandTotal\",\"lineItemVoids\",\"scansWithoutRegistration\",\"quantityModifications\",\"scannedLineItemsPerSecond\",\"valuePerSecond\",\"lineItemVoidsPerPosition\",\"fraud\"]\n",
    "df_train = pd.read_csv(\"train.csv\", delimiter=\"|\")\n",
    "df_test = pd.read_csv(\"test.csv\", delimiter=\"|\")"
   ]
  },
  {
   "cell_type": "code",
   "execution_count": 16,
   "metadata": {},
   "outputs": [],
   "source": [
    "# X = np.array(df_train.loc[:,[\"trustLevel\",\"scansWithoutRegistration\",\"lineItemVoids\",\"quantityModifications\"]])\n",
    "X = np.array(df_train.loc[:,[\"trustLevel\",\"totalScanTimeInSeconds\",\"grandTotal\",\"lineItemVoids\",\"scansWithoutRegistration\",\"quantityModifications\",\"scannedLineItemsPerSecond\",\"valuePerSecond\",\"lineItemVoidsPerPosition\"]])\n",
    "y = np.array(df_train[\"fraud\"])"
   ]
  },
  {
   "cell_type": "code",
   "execution_count": 17,
   "metadata": {},
   "outputs": [],
   "source": [
    "X_train, X_test, y_train, y_test = train_test_split(X,y,test_size = 0.3)"
   ]
  },
  {
   "cell_type": "code",
   "execution_count": 18,
   "metadata": {},
   "outputs": [],
   "source": [
    "DT = tree.DecisionTreeClassifier()\n",
    "DT.fit(X_train,y_train)\n",
    "pred = DT.predict(X_test)"
   ]
  },
  {
   "cell_type": "code",
   "execution_count": 19,
   "metadata": {},
   "outputs": [
    {
     "data": {
      "text/plain": [
       "0.9645390070921985"
      ]
     },
     "execution_count": 19,
     "metadata": {},
     "output_type": "execute_result"
    }
   ],
   "source": [
    "accuracy_score(y_test,pred)"
   ]
  },
  {
   "cell_type": "code",
   "execution_count": null,
   "metadata": {},
   "outputs": [],
   "source": []
  }
 ],
 "metadata": {
  "kernelspec": {
   "display_name": "Python 3 (ipykernel)",
   "language": "python",
   "name": "python3"
  },
  "language_info": {
   "codemirror_mode": {
    "name": "ipython",
    "version": 3
   },
   "file_extension": ".py",
   "mimetype": "text/x-python",
   "name": "python",
   "nbconvert_exporter": "python",
   "pygments_lexer": "ipython3",
   "version": "3.7.6"
  }
 },
 "nbformat": 4,
 "nbformat_minor": 4
}
