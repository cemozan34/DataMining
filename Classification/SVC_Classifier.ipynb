{
 "cells": [
  {
   "cell_type": "code",
   "execution_count": 1,
   "metadata": {},
   "outputs": [],
   "source": [
    "import pandas as pd\n",
    "import numpy as np\n",
    "from sklearn.model_selection import train_test_split\n",
    "from sklearn.metrics import accuracy_score\n",
    "from sklearn.svm import SVC"
   ]
  },
  {
   "cell_type": "code",
   "execution_count": 2,
   "metadata": {},
   "outputs": [],
   "source": [
    "columns = [\"trustLevel\",\"totalScanTimeInSeconds\",\"grandTotal\",\"lineItemVoids\",\"scansWithoutRegistration\",\"quantityModifications\",\"scannedLineItemsPerSecond\",\"valuePerSecond\",\"lineItemVoidsPerPosition\",\"fraud\"]\n",
    "df_train = pd.read_csv(\"train.csv\", delimiter=\"|\")\n",
    "df_test = pd.read_csv(\"test.csv\", delimiter=\"|\")"
   ]
  },
  {
   "cell_type": "code",
   "execution_count": 3,
   "metadata": {},
   "outputs": [],
   "source": [
    "# X = np.array(df_train.loc[:,[\"trustLevel\",\"scansWithoutRegistration\",\"lineItemVoids\",\"quantityModifications\"]])\n",
    "X = np.array(df_train.loc[:,[\"trustLevel\",\"totalScanTimeInSeconds\",\"grandTotal\",\"lineItemVoids\",\"scansWithoutRegistration\",\"quantityModifications\",\"scannedLineItemsPerSecond\",\"valuePerSecond\",\"lineItemVoidsPerPosition\"]\n",
    "])\n",
    "y = np.array(df_train[\"fraud\"])"
   ]
  },
  {
   "cell_type": "code",
   "execution_count": 4,
   "metadata": {},
   "outputs": [],
   "source": [
    "X_train, X_test, y_train, y_test = train_test_split(X,y,test_size = 0.3)"
   ]
  },
  {
   "cell_type": "code",
   "execution_count": 5,
   "metadata": {},
   "outputs": [],
   "source": [
    "model = SVC(gamma=\"scale\").fit(X_train,y_train)\n",
    "pred = model.predict(X_test)"
   ]
  },
  {
   "cell_type": "code",
   "execution_count": 6,
   "metadata": {},
   "outputs": [
    {
     "data": {
      "text/plain": [
       "0.9432624113475178"
      ]
     },
     "execution_count": 6,
     "metadata": {},
     "output_type": "execute_result"
    }
   ],
   "source": [
    "accuracy_score(y_test,pred)"
   ]
  },
  {
   "cell_type": "code",
   "execution_count": null,
   "metadata": {},
   "outputs": [],
   "source": []
  }
 ],
 "metadata": {
  "kernelspec": {
   "display_name": "Python 3 (ipykernel)",
   "language": "python",
   "name": "python3"
  },
  "language_info": {
   "codemirror_mode": {
    "name": "ipython",
    "version": 3
   },
   "file_extension": ".py",
   "mimetype": "text/x-python",
   "name": "python",
   "nbconvert_exporter": "python",
   "pygments_lexer": "ipython3",
   "version": "3.7.6"
  }
 },
 "nbformat": 4,
 "nbformat_minor": 4
}
